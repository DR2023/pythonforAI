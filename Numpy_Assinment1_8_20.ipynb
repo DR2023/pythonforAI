{
  "metadata": {
    "kernelspec": {
      "name": "python",
      "display_name": "Python (Pyodide)",
      "language": "python"
    },
    "language_info": {
      "codemirror_mode": {
        "name": "python",
        "version": 3
      },
      "file_extension": ".py",
      "mimetype": "text/x-python",
      "name": "python",
      "nbconvert_exporter": "python",
      "pygments_lexer": "ipython3",
      "version": "3.8"
    },
    "colab": {
      "provenance": [],
      "include_colab_link": true
    }
  },
  "nbformat_minor": 0,
  "nbformat": 4,
  "cells": [
    {
      "cell_type": "markdown",
      "metadata": {
        "id": "view-in-github",
        "colab_type": "text"
      },
      "source": [
        "<a href=\"https://colab.research.google.com/github/DR2023/pythonforAI/blob/main/Numpy_Assinment1_8_20.ipynb\" target=\"_parent\"><img src=\"https://colab.research.google.com/assets/colab-badge.svg\" alt=\"Open In Colab\"/></a>"
      ]
    },
    {
      "cell_type": "markdown",
      "source": [
        "# 2D Numpy in Python\n",
        "\n",
        "\n",
        "Estimated time needed: **20** minutes\n",
        "    \n",
        "\n",
        "## Objectives\n",
        "\n",
        "After completing this you will be able to:\n",
        "\n",
        "* Operate comfortably with `numpy`\n",
        "* Perform complex operations with `numpy`\n"
      ],
      "metadata": {
        "id": "SKDe0gE8koTu"
      }
    },
    {
      "cell_type": "markdown",
      "source": [
        "<h2>Table of Contents</h2>\n",
        "<div class=\"alert alert-block alert-info\" style=\"margin-top: 20px\">\n",
        "    <ul>\n",
        "        <li><a href=\"create\">Create a 2D Numpy Array</a></li>\n",
        "        <li><a href=\"access\">Accessing different elements of a Numpy Array</a></li>\n",
        "        <li><a href=\"op\">Basic Operations</a></li>\n",
        "    </ul>\n",
        "  \n",
        "</div>\n",
        "\n",
        "<hr>\n"
      ],
      "metadata": {
        "id": "E55oEZ3HkoT0"
      }
    },
    {
      "cell_type": "markdown",
      "source": [
        "<h2 id=\"create\">Create a 2D Numpy Array</h2>\n"
      ],
      "metadata": {
        "id": "P6LXHLc4koT1"
      }
    },
    {
      "cell_type": "code",
      "source": [
        "# Import the libraries\n",
        "import numpy as np\n"
      ],
      "metadata": {
        "id": "raPCzr-gkoT2"
      },
      "execution_count": 2,
      "outputs": []
    },
    {
      "cell_type": "markdown",
      "source": [
        "Consider the list <code>a</code>, which contains three nested lists **each of equal size**.\n"
      ],
      "metadata": {
        "id": "FNkqtn_EkoT3"
      }
    },
    {
      "cell_type": "code",
      "source": [
        "# Create a list\n",
        "a = [[1,2,3],[4,5,6],[7,8,9]]\n"
      ],
      "metadata": {
        "id": "sbiNO-61koT4"
      },
      "execution_count": 3,
      "outputs": []
    },
    {
      "cell_type": "markdown",
      "source": [
        "We can cast the list to a Numpy Array as follows:\n"
      ],
      "metadata": {
        "id": "qhghCrC4koT5"
      }
    },
    {
      "cell_type": "code",
      "source": [
        "# Convert list to Numpy Array\n",
        "# Every element is the same type\n",
        "myarr = np.array(a,dtype = int)\n",
        "#np.array(a,dtype = float)"
      ],
      "metadata": {
        "id": "FgsWfyYkkoT6"
      },
      "execution_count": 17,
      "outputs": []
    },
    {
      "cell_type": "markdown",
      "source": [
        "We can use the attribute <code>ndim</code> to obtain the number of axes or dimensions, referred to as the rank.\n"
      ],
      "metadata": {
        "id": "wbkshNRokoT7"
      }
    },
    {
      "cell_type": "code",
      "source": [
        "# Show the numpy array dimensions\n",
        "myarr.ndim\n"
      ],
      "metadata": {
        "id": "nq0tu3x3koT7",
        "colab": {
          "base_uri": "https://localhost:8080/"
        },
        "outputId": "517815d2-68ec-4b9c-9ca1-e14b1584f117"
      },
      "execution_count": 10,
      "outputs": [
        {
          "output_type": "execute_result",
          "data": {
            "text/plain": [
              "2"
            ]
          },
          "metadata": {},
          "execution_count": 10
        }
      ]
    },
    {
      "cell_type": "markdown",
      "source": [
        "Attribute <code>shape</code> returns a tuple corresponding to the size or number of each dimension.\n"
      ],
      "metadata": {
        "id": "hKkrrdx2koT8"
      }
    },
    {
      "cell_type": "code",
      "source": [
        "# Show the numpy array shape\n",
        "\n",
        "myarr.shape"
      ],
      "metadata": {
        "id": "2QVK26YdkoT8",
        "colab": {
          "base_uri": "https://localhost:8080/"
        },
        "outputId": "e7311def-c445-48b4-cce8-48c882d20255"
      },
      "execution_count": 11,
      "outputs": [
        {
          "output_type": "execute_result",
          "data": {
            "text/plain": [
              "(3, 3)"
            ]
          },
          "metadata": {},
          "execution_count": 11
        }
      ]
    },
    {
      "cell_type": "markdown",
      "source": [
        "The total number of elements in the array is given by the attribute <code>size</code>.\n"
      ],
      "metadata": {
        "id": "uJZsubgzkoT8"
      }
    },
    {
      "cell_type": "code",
      "source": [
        "# Show the numpy array size\n",
        "myarr.size\n"
      ],
      "metadata": {
        "id": "OBA7l__KkoT8",
        "colab": {
          "base_uri": "https://localhost:8080/"
        },
        "outputId": "2f9a83dc-07da-4746-a503-d4b82f591a2d"
      },
      "execution_count": 12,
      "outputs": [
        {
          "output_type": "execute_result",
          "data": {
            "text/plain": [
              "9"
            ]
          },
          "metadata": {},
          "execution_count": 12
        }
      ]
    },
    {
      "cell_type": "markdown",
      "source": [
        "<hr>\n"
      ],
      "metadata": {
        "id": "6xOux8sKkoT8"
      }
    },
    {
      "cell_type": "markdown",
      "source": [
        "<h2 id=\"access\">Accessing different elements of a Numpy Array</h2>\n"
      ],
      "metadata": {
        "id": "kQoDHs_HkoT9"
      }
    },
    {
      "cell_type": "markdown",
      "source": [
        "We can use rectangular brackets to access the different elements of the array. The correspondence between the rectangular brackets and the list and the rectangular representation is shown in the following figure for a 3x3 array:  \n"
      ],
      "metadata": {
        "id": "K-7z5ByUkoT9"
      }
    },
    {
      "cell_type": "markdown",
      "source": [
        "<img src=\"https://cf-courses-data.s3.us.cloud-object-storage.appdomain.cloud/IBMDeveloperSkillsNetwork-PY0101EN-SkillsNetwork/labs/Module%205/images/NumTwoEg.png\" width=\"500\">\n"
      ],
      "metadata": {
        "id": "G_buhzY2koT9"
      }
    },
    {
      "cell_type": "markdown",
      "source": [
        "We can access the 2nd-row, 3rd column as shown in the following figure:\n"
      ],
      "metadata": {
        "id": "nTy7rQhDkoT9"
      }
    },
    {
      "cell_type": "markdown",
      "source": [
        "<img src=\"https://cf-courses-data.s3.us.cloud-object-storage.appdomain.cloud/IBMDeveloperSkillsNetwork-PY0101EN-SkillsNetwork/labs/Module%205/images/NumTwoFT.png\" width=\"400\">\n"
      ],
      "metadata": {
        "id": "BcP6WFhbkoT9"
      }
    },
    {
      "cell_type": "markdown",
      "source": [
        " We simply use the square brackets and the indices corresponding to the element we would like:\n",
        "\n",
        "Create a 3x3 matrix as above"
      ],
      "metadata": {
        "id": "0QTkKkhmkoT9"
      }
    },
    {
      "cell_type": "code",
      "source": [
        "# Access the element on the second row and third column\n",
        "\n",
        "myarr[1,2]"
      ],
      "metadata": {
        "id": "sMKqUCk2koT-",
        "colab": {
          "base_uri": "https://localhost:8080/"
        },
        "outputId": "a04703d6-3e17-4a5a-d1dc-a5639bee1f70"
      },
      "execution_count": 16,
      "outputs": [
        {
          "output_type": "execute_result",
          "data": {
            "text/plain": [
              "6"
            ]
          },
          "metadata": {},
          "execution_count": 16
        }
      ]
    },
    {
      "cell_type": "markdown",
      "source": [
        "We can also use slicing in numpy arrays. Consider the following figure. We would like to obtain the first two columns in the first row\n"
      ],
      "metadata": {
        "id": "X2VUp6ZTkoT_"
      }
    },
    {
      "cell_type": "markdown",
      "source": [
        "<img src=\"https://cf-courses-data.s3.us.cloud-object-storage.appdomain.cloud/IBMDeveloperSkillsNetwork-PY0101EN-SkillsNetwork/labs/Module%205/images/NumTwoFSF.png\" width=\"400\">\n"
      ],
      "metadata": {
        "id": "gNqo2bNmkoT_"
      }
    },
    {
      "cell_type": "markdown",
      "source": [
        " This can be done with the following syntax:\n"
      ],
      "metadata": {
        "id": "gYTtwac9koT_"
      }
    },
    {
      "cell_type": "code",
      "source": [
        "# Access the element on the first row and first and second columns\n",
        "\n",
        "myarr[[0,0],[0,1]]"
      ],
      "metadata": {
        "id": "W53ZEQV-koT_",
        "colab": {
          "base_uri": "https://localhost:8080/"
        },
        "outputId": "0b712321-a586-402c-8fb6-00817e25d3db"
      },
      "execution_count": 14,
      "outputs": [
        {
          "output_type": "execute_result",
          "data": {
            "text/plain": [
              "array([1, 2])"
            ]
          },
          "metadata": {},
          "execution_count": 14
        }
      ]
    },
    {
      "cell_type": "markdown",
      "source": [
        "Similarly, we can obtain the first two rows of the 3rd column as follows:\n"
      ],
      "metadata": {
        "id": "93Og12PzkoUA"
      }
    },
    {
      "cell_type": "code",
      "source": [
        "# Access the element on the first and second rows and third column\n",
        "\n",
        "myarr[[2,0],[2,1]]"
      ],
      "metadata": {
        "id": "i3AbRbrwkoUA",
        "colab": {
          "base_uri": "https://localhost:8080/"
        },
        "outputId": "75804b53-a18b-4991-b502-8faea52d225e"
      },
      "execution_count": 15,
      "outputs": [
        {
          "output_type": "execute_result",
          "data": {
            "text/plain": [
              "array([9, 2])"
            ]
          },
          "metadata": {},
          "execution_count": 15
        }
      ]
    },
    {
      "cell_type": "markdown",
      "source": [
        "Corresponding to the following figure:\n"
      ],
      "metadata": {
        "id": "duk-CUlskoUA"
      }
    },
    {
      "cell_type": "markdown",
      "source": [
        "<img src=\"https://cf-courses-data.s3.us.cloud-object-storage.appdomain.cloud/IBMDeveloperSkillsNetwork-PY0101EN-SkillsNetwork/labs/Module%205/images/2D_numpy.png\" width=\"550\"><br />\n"
      ],
      "metadata": {
        "id": "TRKdk4ZmkoUA"
      }
    },
    {
      "cell_type": "markdown",
      "source": [
        "<h2 id=\"op\">Basic Operations</h2>\n"
      ],
      "metadata": {
        "id": "LJBTJ94qkoUA"
      }
    },
    {
      "cell_type": "markdown",
      "source": [
        "We can also add arrays. The process is identical to matrix addition. Matrix addition of <code>X</code> and <code>Y</code> is shown in the following figure:\n"
      ],
      "metadata": {
        "id": "C0wHpWt-koUB"
      }
    },
    {
      "cell_type": "markdown",
      "source": [
        "<img src=\"https://cf-courses-data.s3.us.cloud-object-storage.appdomain.cloud/IBMDeveloperSkillsNetwork-PY0101EN-SkillsNetwork/labs/Module%205/images/NumTwoAdd.png\" width=\"500\">\n"
      ],
      "metadata": {
        "id": "GbgZdMgUkoUB"
      }
    },
    {
      "cell_type": "markdown",
      "source": [
        "The numpy array is given by <code>X</code> and <code>Y</code>\n"
      ],
      "metadata": {
        "id": "lwp9OYM6koUG"
      }
    },
    {
      "cell_type": "code",
      "source": [
        "# Create a numpy array X\n",
        "\n",
        "X = np.random.random((3,3))\n",
        "X"
      ],
      "metadata": {
        "id": "OTtTJyDnkoUH",
        "colab": {
          "base_uri": "https://localhost:8080/"
        },
        "outputId": "2911cef6-8544-4992-916f-39cbf680cfff"
      },
      "execution_count": 26,
      "outputs": [
        {
          "output_type": "execute_result",
          "data": {
            "text/plain": [
              "array([[0.92012268, 0.83486682, 0.05236522],\n",
              "       [0.76574997, 0.69576234, 0.97222433],\n",
              "       [0.87849297, 0.26000181, 0.26680119]])"
            ]
          },
          "metadata": {},
          "execution_count": 26
        }
      ]
    },
    {
      "cell_type": "code",
      "source": [
        "# Create a numpy array Y\n",
        "\n",
        "Y = np.random.random((3,3))\n",
        "Y"
      ],
      "metadata": {
        "id": "glCcwsMYkoUH",
        "colab": {
          "base_uri": "https://localhost:8080/"
        },
        "outputId": "7d9eeecf-d34a-4cdc-b3c4-782c97a2c142"
      },
      "execution_count": 27,
      "outputs": [
        {
          "output_type": "execute_result",
          "data": {
            "text/plain": [
              "array([[0.69200925, 0.28235899, 0.84597778],\n",
              "       [0.34715323, 0.42481191, 0.96424799],\n",
              "       [0.16413242, 0.77271002, 0.77004117]])"
            ]
          },
          "metadata": {},
          "execution_count": 27
        }
      ]
    },
    {
      "cell_type": "markdown",
      "source": [
        " We can add the numpy arrays as follows.\n"
      ],
      "metadata": {
        "id": "9NPYM-ZRkoUH"
      }
    },
    {
      "cell_type": "code",
      "source": [
        "# Add X and Y\n",
        "\n",
        "Z = X + Y\n",
        "Z"
      ],
      "metadata": {
        "id": "cQKCuz61koUH",
        "colab": {
          "base_uri": "https://localhost:8080/"
        },
        "outputId": "9f3dab3c-400f-413a-d92e-12bbfdcb3c1f"
      },
      "execution_count": 28,
      "outputs": [
        {
          "output_type": "execute_result",
          "data": {
            "text/plain": [
              "array([[1.61213193, 1.11722582, 0.89834299],\n",
              "       [1.1129032 , 1.12057425, 1.93647232],\n",
              "       [1.04262539, 1.03271183, 1.03684236]])"
            ]
          },
          "metadata": {},
          "execution_count": 28
        }
      ]
    },
    {
      "cell_type": "markdown",
      "source": [
        "Multiplying a numpy array by a scaler is identical to multiplying a matrix by a scaler. If we multiply the matrix <code>Y</code> by the scaler 2, we simply multiply every element in the matrix by 2, as shown in the figure.\n"
      ],
      "metadata": {
        "id": "25Y78wQOkoUI"
      }
    },
    {
      "cell_type": "markdown",
      "source": [
        "<img src=\"https://cf-courses-data.s3.us.cloud-object-storage.appdomain.cloud/IBMDeveloperSkillsNetwork-PY0101EN-SkillsNetwork/labs/Module%205/images/NumTwoDb.png\" width=\"500\">\n"
      ],
      "metadata": {
        "id": "QZFVfIEnkoUI"
      }
    },
    {
      "cell_type": "markdown",
      "source": [
        "We can perform the same operation in numpy as follows\n"
      ],
      "metadata": {
        "id": "tTwZc5MnkoUI"
      }
    },
    {
      "cell_type": "code",
      "source": [
        "# Create a numpy array Y\n",
        "\n",
        "Y = np.random.random((3,3))\n",
        "Y"
      ],
      "metadata": {
        "id": "t7rSaOAYkoUI",
        "colab": {
          "base_uri": "https://localhost:8080/"
        },
        "outputId": "5982a4f4-f39c-4556-8601-9482d868bb03"
      },
      "execution_count": 30,
      "outputs": [
        {
          "output_type": "execute_result",
          "data": {
            "text/plain": [
              "array([[0.68831303, 0.98693256, 0.42079145],\n",
              "       [0.46987296, 0.24073133, 0.83586763],\n",
              "       [0.88425543, 0.10793518, 0.90033512]])"
            ]
          },
          "metadata": {},
          "execution_count": 30
        }
      ]
    },
    {
      "cell_type": "code",
      "source": [
        "# Multiply Y with 2\n",
        "\n",
        "Z = np.multiply(Y,2)\n",
        "Z"
      ],
      "metadata": {
        "id": "g4MYNp_AkoUI",
        "colab": {
          "base_uri": "https://localhost:8080/"
        },
        "outputId": "3916fb9f-f6de-45de-b3e2-a4944282ee7d"
      },
      "execution_count": 33,
      "outputs": [
        {
          "output_type": "execute_result",
          "data": {
            "text/plain": [
              "array([[1.37662606, 1.97386511, 0.8415829 ],\n",
              "       [0.93974593, 0.48146267, 1.67173525],\n",
              "       [1.76851085, 0.21587036, 1.80067025]])"
            ]
          },
          "metadata": {},
          "execution_count": 33
        }
      ]
    },
    {
      "cell_type": "markdown",
      "source": [
        "Multiplication of two arrays corresponds to an element-wise product or <em>Hadamard product</em>. Consider matrix <code>X</code> and <code>Y</code>. The Hadamard product corresponds to multiplying each of the elements in the same position, i.e. multiplying elements contained in the same color boxes together. The result is a new matrix that is the same size as matrix <code>Y</code> or <code>X</code>, as shown in the following figure.\n"
      ],
      "metadata": {
        "id": "Cev7-jxSkoUJ"
      }
    },
    {
      "cell_type": "markdown",
      "source": [
        "<img src=\"https://cf-courses-data.s3.us.cloud-object-storage.appdomain.cloud/IBMDeveloperSkillsNetwork-PY0101EN-SkillsNetwork/labs/Module%205/images/NumTwoMul.png\" width=\"500\">\n"
      ],
      "metadata": {
        "id": "y7dZ78U4koUJ"
      }
    },
    {
      "cell_type": "markdown",
      "source": [
        "We can perform element-wise product of the array <code>X</code> and <code>Y</code> as follows:\n"
      ],
      "metadata": {
        "id": "_S5FM3AjkoUJ"
      }
    },
    {
      "cell_type": "code",
      "source": [
        "# Create a numpy array Y\n",
        "\n",
        "Y = np.random.random((3,3))\n",
        "Y"
      ],
      "metadata": {
        "id": "GPQBw6kMkoUJ",
        "colab": {
          "base_uri": "https://localhost:8080/"
        },
        "outputId": "310d6b34-6f71-463b-f4b4-330626e77480"
      },
      "execution_count": 34,
      "outputs": [
        {
          "output_type": "execute_result",
          "data": {
            "text/plain": [
              "array([[0.23916153, 0.78271714, 0.89979247],\n",
              "       [0.00224195, 0.84968283, 0.98697178],\n",
              "       [0.94656645, 0.2077582 , 0.99084215]])"
            ]
          },
          "metadata": {},
          "execution_count": 34
        }
      ]
    },
    {
      "cell_type": "code",
      "source": [
        "# Create a numpy array X\n",
        "\n",
        "X = np.random.random((3,3))\n",
        "X"
      ],
      "metadata": {
        "id": "aGmQHpmFkoUJ",
        "colab": {
          "base_uri": "https://localhost:8080/"
        },
        "outputId": "d5d0f093-fb37-4812-9953-4e391d48e963"
      },
      "execution_count": 35,
      "outputs": [
        {
          "output_type": "execute_result",
          "data": {
            "text/plain": [
              "array([[0.75721881, 0.32053274, 0.01882083],\n",
              "       [0.17614073, 0.26637042, 0.10686701],\n",
              "       [0.3191215 , 0.97530429, 0.40481542]])"
            ]
          },
          "metadata": {},
          "execution_count": 35
        }
      ]
    },
    {
      "cell_type": "code",
      "source": [
        "# Multiply X with Y\n",
        "\n",
        "Z = X * Y\n",
        "Z"
      ],
      "metadata": {
        "id": "lrjni6ptkoUJ",
        "colab": {
          "base_uri": "https://localhost:8080/"
        },
        "outputId": "2841b5dd-696d-4bde-e70b-9462e9e5d8fb"
      },
      "execution_count": 37,
      "outputs": [
        {
          "output_type": "execute_result",
          "data": {
            "text/plain": [
              "array([[1.81097609e-01, 2.50886467e-01, 1.69348370e-02],\n",
              "       [3.94898920e-04, 2.26330372e-01, 1.05474723e-01],\n",
              "       [3.02069705e-01, 2.02627462e-01, 4.01108179e-01]])"
            ]
          },
          "metadata": {},
          "execution_count": 37
        }
      ]
    },
    {
      "cell_type": "code",
      "source": [],
      "metadata": {
        "id": "R7dYYqHFyBO2"
      },
      "execution_count": null,
      "outputs": []
    },
    {
      "cell_type": "markdown",
      "source": [
        "We can also perform matrix multiplication with the numpy arrays <code>A</code> and <code>B</code> as follows:\n"
      ],
      "metadata": {
        "id": "YaGqXrsJkoUK"
      }
    },
    {
      "cell_type": "markdown",
      "source": [
        "First, we define matrix <code>A</code> and <code>B</code>:\n"
      ],
      "metadata": {
        "id": "QsFsNJKfkoUK"
      }
    },
    {
      "cell_type": "code",
      "source": [
        "# Create a matrix A of 2x3\n",
        "\n",
        "A = np.random.random((2,3))\n",
        "A"
      ],
      "metadata": {
        "id": "6lvXfCcskoUK",
        "colab": {
          "base_uri": "https://localhost:8080/"
        },
        "outputId": "fd37abc3-36b7-488b-cf0f-833e7a385895"
      },
      "execution_count": 38,
      "outputs": [
        {
          "output_type": "execute_result",
          "data": {
            "text/plain": [
              "array([[0.60623585, 0.73009617, 0.46198144],\n",
              "       [0.9906956 , 0.71682561, 0.3340436 ]])"
            ]
          },
          "metadata": {},
          "execution_count": 38
        }
      ]
    },
    {
      "cell_type": "code",
      "source": [
        "# Create a matrix B of 3x3\n",
        "\n",
        "B = np.random.random((3,3))\n",
        "B"
      ],
      "metadata": {
        "id": "DqrnYsQMkoUK",
        "colab": {
          "base_uri": "https://localhost:8080/"
        },
        "outputId": "962b1fbe-77be-4783-85db-851ef74c4060"
      },
      "execution_count": 44,
      "outputs": [
        {
          "output_type": "execute_result",
          "data": {
            "text/plain": [
              "array([[0.74330935, 0.22728111, 0.61236774],\n",
              "       [0.41541915, 0.30796743, 0.6845855 ],\n",
              "       [0.51204643, 0.36317749, 0.66177735]])"
            ]
          },
          "metadata": {},
          "execution_count": 44
        }
      ]
    },
    {
      "cell_type": "markdown",
      "source": [
        "We use the numpy function <code>dot</code> to multiply the arrays together.\n"
      ],
      "metadata": {
        "id": "cHWWyVPWkoUL"
      }
    },
    {
      "cell_type": "code",
      "source": [
        "# Calculate the dot product\n",
        "\n",
        "Z = np.dot(A,B)\n",
        "Z"
      ],
      "metadata": {
        "id": "3DFcLrHUkoUL",
        "colab": {
          "base_uri": "https://localhost:8080/"
        },
        "outputId": "ae27e4e5-576d-4862-dab4-ba4bf7238ce3"
      },
      "execution_count": 45,
      "outputs": [
        {
          "output_type": "execute_result",
          "data": {
            "text/plain": [
              "array([[0.99047265, 0.53041306, 1.17678138],\n",
              "       [1.20522222, 0.56724246, 1.31846094]])"
            ]
          },
          "metadata": {},
          "execution_count": 45
        }
      ]
    },
    {
      "cell_type": "code",
      "source": [
        "# Calculate the sine of Z\n",
        "np.sin(Z)"
      ],
      "metadata": {
        "id": "J2mL6btykoUL",
        "colab": {
          "base_uri": "https://localhost:8080/"
        },
        "outputId": "6fa59ca2-b267-48bd-c8c1-8d138b0a4b17"
      },
      "execution_count": 47,
      "outputs": [
        {
          "output_type": "execute_result",
          "data": {
            "text/plain": [
              "array([[0.83628522, 0.50588969, 0.92337517],\n",
              "       [0.93391868, 0.53730842, 0.968332  ]])"
            ]
          },
          "metadata": {},
          "execution_count": 47
        }
      ]
    },
    {
      "cell_type": "markdown",
      "source": [
        "We use the numpy attribute <code>T</code> to calculate the transposed matrix\n"
      ],
      "metadata": {
        "id": "VrfwesqNkoUL"
      }
    },
    {
      "cell_type": "code",
      "source": [
        "# Create a matrix C\n",
        "\n",
        "C = np.random.random((3,3))\n",
        "C"
      ],
      "metadata": {
        "id": "-yyGyu9JkoUL",
        "colab": {
          "base_uri": "https://localhost:8080/"
        },
        "outputId": "51b13201-4d4d-4068-a62c-b720f0efc2b9"
      },
      "execution_count": 49,
      "outputs": [
        {
          "output_type": "execute_result",
          "data": {
            "text/plain": [
              "array([[0.43380555, 0.93379339, 0.98010146],\n",
              "       [0.33075634, 0.35346359, 0.70058569],\n",
              "       [0.85433038, 0.23855921, 0.38156816]])"
            ]
          },
          "metadata": {},
          "execution_count": 49
        }
      ]
    },
    {
      "cell_type": "code",
      "source": [
        "# Get the transposed of C\n",
        "C.T"
      ],
      "metadata": {
        "id": "2qzC-a28koUM",
        "colab": {
          "base_uri": "https://localhost:8080/"
        },
        "outputId": "fc1232cd-536b-4662-83d8-eae4014dbd82"
      },
      "execution_count": 50,
      "outputs": [
        {
          "output_type": "execute_result",
          "data": {
            "text/plain": [
              "array([[0.43380555, 0.33075634, 0.85433038],\n",
              "       [0.93379339, 0.35346359, 0.23855921],\n",
              "       [0.98010146, 0.70058569, 0.38156816]])"
            ]
          },
          "metadata": {},
          "execution_count": 50
        }
      ]
    },
    {
      "cell_type": "markdown",
      "source": [
        "<h2>Quiz on 2D Numpy Array</h2>\n"
      ],
      "metadata": {
        "id": "4A-kBac6koUM"
      }
    },
    {
      "cell_type": "markdown",
      "source": [
        "Consider the following list <code>a</code>, convert it to Numpy Array.\n"
      ],
      "metadata": {
        "id": "VF4vFLdXkoUM"
      }
    },
    {
      "cell_type": "code",
      "source": [
        "# Create a 2D Numpy array with 3rows and 4 columns\n",
        "A = [[1, 2, 3, 4], [5, 6, 7, 8], [9, 10, 11, 12]]\n",
        "myarr  = np.array(A)\n",
        "myarr"
      ],
      "metadata": {
        "id": "6zVIur8NkoUM",
        "colab": {
          "base_uri": "https://localhost:8080/"
        },
        "outputId": "1636e3e8-f4ee-47e4-c4a7-27a97efa9cbd"
      },
      "execution_count": 53,
      "outputs": [
        {
          "output_type": "execute_result",
          "data": {
            "text/plain": [
              "array([[ 1,  2,  3,  4],\n",
              "       [ 5,  6,  7,  8],\n",
              "       [ 9, 10, 11, 12]])"
            ]
          },
          "metadata": {},
          "execution_count": 53
        }
      ]
    },
    {
      "cell_type": "markdown",
      "source": [
        "Calculate the numpy array size.\n"
      ],
      "metadata": {
        "id": "CfspBLcDkoUN"
      }
    },
    {
      "cell_type": "code",
      "source": [
        "# Write your code below and press Shift+Enter to execute\n",
        "myarr.size"
      ],
      "metadata": {
        "id": "f1jpxYn1koUN",
        "colab": {
          "base_uri": "https://localhost:8080/"
        },
        "outputId": "54a8da9e-b370-41b7-b680-7381cca6f821"
      },
      "execution_count": 54,
      "outputs": [
        {
          "output_type": "execute_result",
          "data": {
            "text/plain": [
              "12"
            ]
          },
          "metadata": {},
          "execution_count": 54
        }
      ]
    },
    {
      "cell_type": "markdown",
      "source": [
        "Access the element on the first row and first and second columns.\n"
      ],
      "metadata": {
        "id": "n4XRXXfGkoUN"
      }
    },
    {
      "cell_type": "code",
      "source": [
        "# Write your code below and press Shift+Enter to execute\n",
        "myarr[0,0],myarr[0,1]"
      ],
      "metadata": {
        "id": "SXtvf0kYkoUN",
        "colab": {
          "base_uri": "https://localhost:8080/"
        },
        "outputId": "df699393-8c9b-47e3-f2f5-4f24e35c537b"
      },
      "execution_count": 58,
      "outputs": [
        {
          "output_type": "execute_result",
          "data": {
            "text/plain": [
              "(1, 2)"
            ]
          },
          "metadata": {},
          "execution_count": 58
        }
      ]
    },
    {
      "cell_type": "markdown",
      "source": [
        "Perform matrix multiplication with the numpy arrays <code>A</code> and <code>B</code>.\n"
      ],
      "metadata": {
        "id": "7_thZTzQkoUO"
      }
    },
    {
      "cell_type": "code",
      "source": [
        "# Write your code below and press Shift+Enter to execute\n",
        "\n",
        "B = np.array([[0, 1], [1, 0], [1, 1], [-1, 0]])\n",
        "A = np.array(A)\n",
        "A.T\n",
        "np.dot(A,B)"
      ],
      "metadata": {
        "id": "O5S4_ICBkoUO",
        "colab": {
          "base_uri": "https://localhost:8080/"
        },
        "outputId": "d3cade16-2c82-44b0-d493-489f6713bc71"
      },
      "execution_count": 65,
      "outputs": [
        {
          "output_type": "execute_result",
          "data": {
            "text/plain": [
              "array([[ 1,  4],\n",
              "       [ 5, 12],\n",
              "       [ 9, 20]])"
            ]
          },
          "metadata": {},
          "execution_count": 65
        }
      ]
    }
  ]
}